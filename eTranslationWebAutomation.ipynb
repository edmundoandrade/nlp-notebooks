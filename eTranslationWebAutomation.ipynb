{
 "cells": [
  {
   "cell_type": "markdown",
   "metadata": {},
   "source": [
    "# eTranslation Web automation\n",
    " > GOAL: Automatically connect to eTranlation Web page and obtain the translation of legislative documents.\n",
    " \n",
    " > URL: https://webgate.ec.europa.eu/etranslation\n",
    " \n",
    " > AUTHOR: Edmundo"
   ]
  },
  {
   "cell_type": "markdown",
   "metadata": {},
   "source": [
    "## Installation steps for Web automation - required browsers, libraries and/or drivers"
   ]
  },
  {
   "cell_type": "code",
   "execution_count": 1,
   "metadata": {},
   "outputs": [],
   "source": [
    "# Install Chrome\n",
    "#!apt-get update\n",
    "#!apt-get install -y libasound2 libasound2-data libappindicator1 fonts-liberation\n",
    "#!wget https://dl.google.com/linux/direct/google-chrome-stable_current_amd64.deb\n",
    "#!dpkg -i google-chrome*.deb\n",
    "\n",
    "# Download Chrome driver for selenium\n",
    "#!apt-get install -y libnss3\n",
    "#!wget -P selenium-drivers/ https://chromedriver.storage.googleapis.com/76.0.3809.126/chromedriver_linux64.zip\n",
    "#!unzip -o selenium-drivers/chromedriver_linux64.zip -d selenium-drivers/\n",
    "#!rm selenium-drivers/chromedriver_linux64.zip\n",
    "#!chmod +x selenium-drivers/chromedriver\n",
    "#!ls -la selenium-drivers/\n",
    "\n",
    "# Install Firefox\n",
    "#!apt-get install -y firefox\n",
    "#!apt-get install -y xvfb\n",
    "\n",
    "#!wget -P selenium-drivers/ https://github.com/mozilla/geckodriver/releases/download/v0.24.0/geckodriver-v0.24.0-linux64.tar.gz\n",
    "#!tar -xvzf selenium-drivers/geckodriver-v0.24.0-linux64.tar.gz -C selenium-drivers/\n",
    "#!rm selenium-drivers/geckodriver-v0.24.0-linux64.tar.gz"
   ]
  },
  {
   "cell_type": "markdown",
   "metadata": {},
   "source": [
    "## Initialization"
   ]
  },
  {
   "cell_type": "code",
   "execution_count": 2,
   "metadata": {},
   "outputs": [],
   "source": [
    "from pyvirtualdisplay import Display\n",
    "from selenium import webdriver\n",
    "from selenium.webdriver.common.by import By\n",
    "from selenium.webdriver.support.ui import WebDriverWait\n",
    "from selenium.webdriver.support import expected_conditions as EC\n",
    "import pandas as pd\n",
    "import getpass\n",
    "from PIL import Image\n",
    "from io import BytesIO\n",
    "import matplotlib.pyplot as plt\n",
    "%matplotlib inline\n",
    "\n",
    "plt.rcParams['figure.dpi'] = 350\n",
    "\n",
    "def loginAndOpenTranslationTextPage(driver, user, password):\n",
    "    driver.get(\"https://webgate.ec.europa.eu/etranslation\")\n",
    "    assert driver.title == \"EU Login\"\n",
    "    driver.find_element(By.ID, \"username\").send_keys(user)\n",
    "    driver.find_element(By.NAME, \"whoamiSubmit\").click()\n",
    "    assert driver.title == \"Login\"\n",
    "    driver.find_element(By.ID, \"password\").send_keys(password)\n",
    "    driver.find_element(By.NAME, \"_submit\").click()\n",
    "    driver.find_element(By.LINK_TEXT, \"Translate text\").click()\n",
    "    assert driver.title == \"Translate text snippet\"\n",
    "\n",
    "def translateToEnglish(driver, fromText):\n",
    "    driver.execute_script(\"document.getElementById('translatedText').value = ''\")\n",
    "    driver.find_element(By.ID, \"limitedtextarea\").send_keys(fromText)\n",
    "    driver.execute_script(\"$('#srcLangSelect').val('PT').trigger('change')\")\n",
    "    WebDriverWait(driver, 10).until(EC.element_to_be_clickable((By.XPATH, \"//select[@name='targetLanguages']/option[. = 'EN']\")))\n",
    "    driver.execute_script(\"$('#targetL').val('EN').trigger('change')\")\n",
    "    driver.find_element(By.ID, \"submit\").click()\n",
    "    WebDriverWait(driver, 20).until(lambda driver: driver.execute_script(\"return document.getElementById('translatedText').value\").strip() != '')\n",
    "    assert driver.title == \"Translate text snippet\"\n",
    "    #plt.imshow(Image.open(BytesIO(driver.get_screenshot_as_png())))\n",
    "    return driver.execute_script(\"return document.getElementById('translatedText').value\")\n"
   ]
  },
  {
   "cell_type": "markdown",
   "metadata": {},
   "source": [
    "## Proxy settings"
   ]
  },
  {
   "cell_type": "code",
   "execution_count": 3,
   "metadata": {},
   "outputs": [],
   "source": [
    "#import os\n",
    "#os.environ['http_proxy'] = \"http://HOST:PORT\"\n",
    "#os.environ['https_proxy'] = \"http://HOST:PORT\""
   ]
  },
  {
   "cell_type": "markdown",
   "metadata": {},
   "source": [
    "## User credentials"
   ]
  },
  {
   "cell_type": "code",
   "execution_count": 4,
   "metadata": {},
   "outputs": [
    {
     "name": "stdout",
     "output_type": "stream",
     "text": [
      "Type your eTranslation password:\n"
     ]
    }
   ],
   "source": [
    "user = \"YOUR_EMAIL\"\n",
    "print(\"Type your eTranslation password:\")\n",
    "password = getpass.getpass()"
   ]
  },
  {
   "cell_type": "markdown",
   "metadata": {},
   "source": [
    "## Input sample"
   ]
  },
  {
   "cell_type": "code",
   "execution_count": 5,
   "metadata": {},
   "outputs": [
    {
     "data": {
      "text/html": [
       "<div>\n",
       "<style scoped>\n",
       "    .dataframe tbody tr th:only-of-type {\n",
       "        vertical-align: middle;\n",
       "    }\n",
       "\n",
       "    .dataframe tbody tr th {\n",
       "        vertical-align: top;\n",
       "    }\n",
       "\n",
       "    .dataframe thead th {\n",
       "        text-align: right;\n",
       "    }\n",
       "</style>\n",
       "<table border=\"1\" class=\"dataframe\">\n",
       "  <thead>\n",
       "    <tr style=\"text-align: right;\">\n",
       "      <th></th>\n",
       "      <th>id</th>\n",
       "      <th>text</th>\n",
       "    </tr>\n",
       "  </thead>\n",
       "  <tbody>\n",
       "    <tr>\n",
       "      <td>0</td>\n",
       "      <td>101</td>\n",
       "      <td>Constituição Federal</td>\n",
       "    </tr>\n",
       "    <tr>\n",
       "      <td>1</td>\n",
       "      <td>102</td>\n",
       "      <td>Resolução do Congresso Nacional</td>\n",
       "    </tr>\n",
       "  </tbody>\n",
       "</table>\n",
       "</div>"
      ],
      "text/plain": [
       "    id                             text\n",
       "0  101             Constituição Federal\n",
       "1  102  Resolução do Congresso Nacional"
      ]
     },
     "execution_count": 5,
     "metadata": {},
     "output_type": "execute_result"
    }
   ],
   "source": [
    "documents = {\n",
    "    'id': [101, 102],\n",
    "    'text': ['Constituição Federal', 'Resolução do Congresso Nacional']\n",
    "}\n",
    "df = pd.DataFrame(documents)\n",
    "df"
   ]
  },
  {
   "cell_type": "markdown",
   "metadata": {},
   "source": [
    "## Automatic translations"
   ]
  },
  {
   "cell_type": "code",
   "execution_count": 8,
   "metadata": {},
   "outputs": [
    {
     "data": {
      "text/html": [
       "<div>\n",
       "<style scoped>\n",
       "    .dataframe tbody tr th:only-of-type {\n",
       "        vertical-align: middle;\n",
       "    }\n",
       "\n",
       "    .dataframe tbody tr th {\n",
       "        vertical-align: top;\n",
       "    }\n",
       "\n",
       "    .dataframe thead th {\n",
       "        text-align: right;\n",
       "    }\n",
       "</style>\n",
       "<table border=\"1\" class=\"dataframe\">\n",
       "  <thead>\n",
       "    <tr style=\"text-align: right;\">\n",
       "      <th></th>\n",
       "      <th>id</th>\n",
       "      <th>text</th>\n",
       "      <th>en_text</th>\n",
       "    </tr>\n",
       "  </thead>\n",
       "  <tbody>\n",
       "    <tr>\n",
       "      <td>0</td>\n",
       "      <td>101</td>\n",
       "      <td>Constituição Federal</td>\n",
       "      <td>﻿Federal Constitution</td>\n",
       "    </tr>\n",
       "    <tr>\n",
       "      <td>1</td>\n",
       "      <td>102</td>\n",
       "      <td>Resolução do Congresso Nacional</td>\n",
       "      <td>﻿Resolution of the Federal Congress</td>\n",
       "    </tr>\n",
       "  </tbody>\n",
       "</table>\n",
       "</div>"
      ],
      "text/plain": [
       "    id                             text                              en_text\n",
       "0  101             Constituição Federal                ﻿Federal Constitution\n",
       "1  102  Resolução do Congresso Nacional  ﻿Resolution of the Federal Congress"
      ]
     },
     "execution_count": 8,
     "metadata": {},
     "output_type": "execute_result"
    }
   ],
   "source": [
    "with Display(visible=0, size=(1024, 768)) as display:\n",
    "    with webdriver.Chrome(executable_path=\"selenium-drivers/chromedriver\") as driver:\n",
    "        driver.implicitly_wait(10)\n",
    "        loginAndOpenTranslationTextPage(driver, user, password)\n",
    "        for index_label, row_series in df.iterrows():\n",
    "            text = df.at[index_label, \"text\"]\n",
    "            df.at[index_label, \"en_text\"] = translateToEnglish(driver, text)\n",
    "df"
   ]
  }
 ],
 "metadata": {
  "kernelspec": {
   "display_name": "Python (analise-enquete)",
   "language": "python",
   "name": "analise-enquete"
  },
  "language_info": {
   "codemirror_mode": {
    "name": "ipython",
    "version": 3
   },
   "file_extension": ".py",
   "mimetype": "text/x-python",
   "name": "python",
   "nbconvert_exporter": "python",
   "pygments_lexer": "ipython3",
   "version": "3.7.4"
  }
 },
 "nbformat": 4,
 "nbformat_minor": 2
}
